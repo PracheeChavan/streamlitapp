{
 "cells": [
  {
   "cell_type": "code",
   "execution_count": 1,
   "id": "981eaa31",
   "metadata": {},
   "outputs": [],
   "source": [
    "import numpy as np\n",
    "import matplotlib.pyplot as plt\n",
    "import pandas as pd\n",
    "import pandas_datareader as web\n",
    "import datetime as dt\n",
    "import streamlit as st\n",
    "import yfinance as yf\n",
    "\n",
    "from sklearn.preprocessing import MinMaxScaler\n",
    "from tensorflow.keras.models import Sequential \n",
    "from tensorflow.keras.layers import Dense, Dropout, LSTM"
   ]
  },
  {
   "cell_type": "code",
   "execution_count": 2,
   "id": "d8d4cde0",
   "metadata": {},
   "outputs": [
    {
     "name": "stdout",
     "output_type": "stream",
     "text": [
      "[*********************100%***********************]  1 of 1 completed\n",
      "[*********************100%***********************]  1 of 1 completed\n",
      "[*********************100%***********************]  1 of 1 completed\n",
      "[*********************100%***********************]  1 of 1 completed\n",
      "[*********************100%***********************]  1 of 1 completed\n",
      "[*********************100%***********************]  1 of 1 completed\n",
      "[*********************100%***********************]  1 of 1 completed\n",
      "[*********************100%***********************]  1 of 1 completed\n",
      "[*********************100%***********************]  1 of 1 completed\n",
      "[*********************100%***********************]  1 of 1 completed\n"
     ]
    },
    {
     "data": {
      "text/html": [
       "<div>\n",
       "<style scoped>\n",
       "    .dataframe tbody tr th:only-of-type {\n",
       "        vertical-align: middle;\n",
       "    }\n",
       "\n",
       "    .dataframe tbody tr th {\n",
       "        vertical-align: top;\n",
       "    }\n",
       "\n",
       "    .dataframe thead th {\n",
       "        text-align: right;\n",
       "    }\n",
       "</style>\n",
       "<table border=\"1\" class=\"dataframe\">\n",
       "  <thead>\n",
       "    <tr style=\"text-align: right;\">\n",
       "      <th></th>\n",
       "      <th>Open</th>\n",
       "      <th>High</th>\n",
       "      <th>Low</th>\n",
       "      <th>Close</th>\n",
       "      <th>Adj Close</th>\n",
       "      <th>Volume</th>\n",
       "      <th>company</th>\n",
       "    </tr>\n",
       "    <tr>\n",
       "      <th>Date</th>\n",
       "      <th></th>\n",
       "      <th></th>\n",
       "      <th></th>\n",
       "      <th></th>\n",
       "      <th></th>\n",
       "      <th></th>\n",
       "      <th></th>\n",
       "    </tr>\n",
       "  </thead>\n",
       "  <tbody>\n",
       "    <tr>\n",
       "      <th>2012-08-01</th>\n",
       "      <td>1.866000</td>\n",
       "      <td>1.866000</td>\n",
       "      <td>1.735333</td>\n",
       "      <td>1.750000</td>\n",
       "      <td>1.750000</td>\n",
       "      <td>23884500</td>\n",
       "      <td>TSLA</td>\n",
       "    </tr>\n",
       "    <tr>\n",
       "      <th>2012-08-02</th>\n",
       "      <td>1.789333</td>\n",
       "      <td>1.790000</td>\n",
       "      <td>1.701333</td>\n",
       "      <td>1.740000</td>\n",
       "      <td>1.740000</td>\n",
       "      <td>19576500</td>\n",
       "      <td>TSLA</td>\n",
       "    </tr>\n",
       "    <tr>\n",
       "      <th>2012-08-03</th>\n",
       "      <td>1.793333</td>\n",
       "      <td>1.836667</td>\n",
       "      <td>1.782667</td>\n",
       "      <td>1.818000</td>\n",
       "      <td>1.818000</td>\n",
       "      <td>18142500</td>\n",
       "      <td>TSLA</td>\n",
       "    </tr>\n",
       "    <tr>\n",
       "      <th>2012-08-06</th>\n",
       "      <td>1.836667</td>\n",
       "      <td>1.913333</td>\n",
       "      <td>1.836667</td>\n",
       "      <td>1.884667</td>\n",
       "      <td>1.884667</td>\n",
       "      <td>22923000</td>\n",
       "      <td>TSLA</td>\n",
       "    </tr>\n",
       "    <tr>\n",
       "      <th>2012-08-07</th>\n",
       "      <td>1.918000</td>\n",
       "      <td>2.060000</td>\n",
       "      <td>1.900000</td>\n",
       "      <td>2.016667</td>\n",
       "      <td>2.016667</td>\n",
       "      <td>35808000</td>\n",
       "      <td>TSLA</td>\n",
       "    </tr>\n",
       "    <tr>\n",
       "      <th>...</th>\n",
       "      <td>...</td>\n",
       "      <td>...</td>\n",
       "      <td>...</td>\n",
       "      <td>...</td>\n",
       "      <td>...</td>\n",
       "      <td>...</td>\n",
       "      <td>...</td>\n",
       "    </tr>\n",
       "    <tr>\n",
       "      <th>2021-12-23</th>\n",
       "      <td>18.590000</td>\n",
       "      <td>18.719999</td>\n",
       "      <td>18.150000</td>\n",
       "      <td>18.260000</td>\n",
       "      <td>18.260000</td>\n",
       "      <td>32321000</td>\n",
       "      <td>AAL</td>\n",
       "    </tr>\n",
       "    <tr>\n",
       "      <th>2021-12-27</th>\n",
       "      <td>17.660000</td>\n",
       "      <td>18.240000</td>\n",
       "      <td>17.549999</td>\n",
       "      <td>18.170000</td>\n",
       "      <td>18.170000</td>\n",
       "      <td>28059300</td>\n",
       "      <td>AAL</td>\n",
       "    </tr>\n",
       "    <tr>\n",
       "      <th>2021-12-28</th>\n",
       "      <td>18.030001</td>\n",
       "      <td>18.639999</td>\n",
       "      <td>17.920000</td>\n",
       "      <td>18.540001</td>\n",
       "      <td>18.540001</td>\n",
       "      <td>28263600</td>\n",
       "      <td>AAL</td>\n",
       "    </tr>\n",
       "    <tr>\n",
       "      <th>2021-12-29</th>\n",
       "      <td>18.400000</td>\n",
       "      <td>18.430000</td>\n",
       "      <td>17.990000</td>\n",
       "      <td>18.049999</td>\n",
       "      <td>18.049999</td>\n",
       "      <td>22627000</td>\n",
       "      <td>AAL</td>\n",
       "    </tr>\n",
       "    <tr>\n",
       "      <th>2021-12-30</th>\n",
       "      <td>17.980000</td>\n",
       "      <td>18.379999</td>\n",
       "      <td>17.959999</td>\n",
       "      <td>18.070000</td>\n",
       "      <td>18.070000</td>\n",
       "      <td>28158200</td>\n",
       "      <td>AAL</td>\n",
       "    </tr>\n",
       "  </tbody>\n",
       "</table>\n",
       "<p>22890 rows × 7 columns</p>\n",
       "</div>"
      ],
      "text/plain": [
       "                 Open       High        Low      Close  Adj Close    Volume  \\\n",
       "Date                                                                          \n",
       "2012-08-01   1.866000   1.866000   1.735333   1.750000   1.750000  23884500   \n",
       "2012-08-02   1.789333   1.790000   1.701333   1.740000   1.740000  19576500   \n",
       "2012-08-03   1.793333   1.836667   1.782667   1.818000   1.818000  18142500   \n",
       "2012-08-06   1.836667   1.913333   1.836667   1.884667   1.884667  22923000   \n",
       "2012-08-07   1.918000   2.060000   1.900000   2.016667   2.016667  35808000   \n",
       "...               ...        ...        ...        ...        ...       ...   \n",
       "2021-12-23  18.590000  18.719999  18.150000  18.260000  18.260000  32321000   \n",
       "2021-12-27  17.660000  18.240000  17.549999  18.170000  18.170000  28059300   \n",
       "2021-12-28  18.030001  18.639999  17.920000  18.540001  18.540001  28263600   \n",
       "2021-12-29  18.400000  18.430000  17.990000  18.049999  18.049999  22627000   \n",
       "2021-12-30  17.980000  18.379999  17.959999  18.070000  18.070000  28158200   \n",
       "\n",
       "           company  \n",
       "Date                \n",
       "2012-08-01    TSLA  \n",
       "2012-08-02    TSLA  \n",
       "2012-08-03    TSLA  \n",
       "2012-08-06    TSLA  \n",
       "2012-08-07    TSLA  \n",
       "...            ...  \n",
       "2021-12-23     AAL  \n",
       "2021-12-27     AAL  \n",
       "2021-12-28     AAL  \n",
       "2021-12-29     AAL  \n",
       "2021-12-30     AAL  \n",
       "\n",
       "[22890 rows x 7 columns]"
      ]
     },
     "execution_count": 2,
     "metadata": {},
     "output_type": "execute_result"
    }
   ],
   "source": [
    "# Load data\n",
    "\n",
    "#data = web.DataReader('BMWYY', data_source='yahoo',start='2012-08-01', end='2021-07-31')\n",
    "df_list = []\n",
    "start='2012-08-01'\n",
    "end='2021-12-31'\n",
    "company = ['TSLA','FORD','RACE','BMWYY','MBGAF','AAPL','GOOG','META','AMZN','AAL']\n",
    "for company_name in company:\n",
    "    df = yf.download(company_name, start,end)\n",
    "    df['company'] = company_name\n",
    "    df_list.append(df)\n",
    "data = pd.concat(df_list)\n",
    "data"
   ]
  },
  {
   "cell_type": "code",
   "execution_count": 3,
   "id": "3c05e594",
   "metadata": {},
   "outputs": [],
   "source": [
    "#data.replace({'company_encode':{'TSLA':1,'RACE':2,'MBGAF':3,'BMWYY':4,'FORD':5}}, inplace=True)"
   ]
  },
  {
   "cell_type": "code",
   "execution_count": 4,
   "id": "ac336d3c",
   "metadata": {},
   "outputs": [
    {
     "data": {
      "text/html": [
       "<div>\n",
       "<style scoped>\n",
       "    .dataframe tbody tr th:only-of-type {\n",
       "        vertical-align: middle;\n",
       "    }\n",
       "\n",
       "    .dataframe tbody tr th {\n",
       "        vertical-align: top;\n",
       "    }\n",
       "\n",
       "    .dataframe thead th {\n",
       "        text-align: right;\n",
       "    }\n",
       "</style>\n",
       "<table border=\"1\" class=\"dataframe\">\n",
       "  <thead>\n",
       "    <tr style=\"text-align: right;\">\n",
       "      <th></th>\n",
       "      <th>Open</th>\n",
       "      <th>High</th>\n",
       "      <th>Low</th>\n",
       "      <th>Close</th>\n",
       "      <th>Adj Close</th>\n",
       "      <th>Volume</th>\n",
       "      <th>company</th>\n",
       "    </tr>\n",
       "    <tr>\n",
       "      <th>Date</th>\n",
       "      <th></th>\n",
       "      <th></th>\n",
       "      <th></th>\n",
       "      <th></th>\n",
       "      <th></th>\n",
       "      <th></th>\n",
       "      <th></th>\n",
       "    </tr>\n",
       "  </thead>\n",
       "  <tbody>\n",
       "    <tr>\n",
       "      <th>2012-08-01</th>\n",
       "      <td>1.866000</td>\n",
       "      <td>1.866000</td>\n",
       "      <td>1.735333</td>\n",
       "      <td>1.750000</td>\n",
       "      <td>1.750000</td>\n",
       "      <td>23884500</td>\n",
       "      <td>TSLA</td>\n",
       "    </tr>\n",
       "    <tr>\n",
       "      <th>2012-08-02</th>\n",
       "      <td>1.789333</td>\n",
       "      <td>1.790000</td>\n",
       "      <td>1.701333</td>\n",
       "      <td>1.740000</td>\n",
       "      <td>1.740000</td>\n",
       "      <td>19576500</td>\n",
       "      <td>TSLA</td>\n",
       "    </tr>\n",
       "    <tr>\n",
       "      <th>2012-08-03</th>\n",
       "      <td>1.793333</td>\n",
       "      <td>1.836667</td>\n",
       "      <td>1.782667</td>\n",
       "      <td>1.818000</td>\n",
       "      <td>1.818000</td>\n",
       "      <td>18142500</td>\n",
       "      <td>TSLA</td>\n",
       "    </tr>\n",
       "    <tr>\n",
       "      <th>2012-08-06</th>\n",
       "      <td>1.836667</td>\n",
       "      <td>1.913333</td>\n",
       "      <td>1.836667</td>\n",
       "      <td>1.884667</td>\n",
       "      <td>1.884667</td>\n",
       "      <td>22923000</td>\n",
       "      <td>TSLA</td>\n",
       "    </tr>\n",
       "    <tr>\n",
       "      <th>2012-08-07</th>\n",
       "      <td>1.918000</td>\n",
       "      <td>2.060000</td>\n",
       "      <td>1.900000</td>\n",
       "      <td>2.016667</td>\n",
       "      <td>2.016667</td>\n",
       "      <td>35808000</td>\n",
       "      <td>TSLA</td>\n",
       "    </tr>\n",
       "    <tr>\n",
       "      <th>...</th>\n",
       "      <td>...</td>\n",
       "      <td>...</td>\n",
       "      <td>...</td>\n",
       "      <td>...</td>\n",
       "      <td>...</td>\n",
       "      <td>...</td>\n",
       "      <td>...</td>\n",
       "    </tr>\n",
       "    <tr>\n",
       "      <th>2021-12-23</th>\n",
       "      <td>18.590000</td>\n",
       "      <td>18.719999</td>\n",
       "      <td>18.150000</td>\n",
       "      <td>18.260000</td>\n",
       "      <td>18.260000</td>\n",
       "      <td>32321000</td>\n",
       "      <td>AAL</td>\n",
       "    </tr>\n",
       "    <tr>\n",
       "      <th>2021-12-27</th>\n",
       "      <td>17.660000</td>\n",
       "      <td>18.240000</td>\n",
       "      <td>17.549999</td>\n",
       "      <td>18.170000</td>\n",
       "      <td>18.170000</td>\n",
       "      <td>28059300</td>\n",
       "      <td>AAL</td>\n",
       "    </tr>\n",
       "    <tr>\n",
       "      <th>2021-12-28</th>\n",
       "      <td>18.030001</td>\n",
       "      <td>18.639999</td>\n",
       "      <td>17.920000</td>\n",
       "      <td>18.540001</td>\n",
       "      <td>18.540001</td>\n",
       "      <td>28263600</td>\n",
       "      <td>AAL</td>\n",
       "    </tr>\n",
       "    <tr>\n",
       "      <th>2021-12-29</th>\n",
       "      <td>18.400000</td>\n",
       "      <td>18.430000</td>\n",
       "      <td>17.990000</td>\n",
       "      <td>18.049999</td>\n",
       "      <td>18.049999</td>\n",
       "      <td>22627000</td>\n",
       "      <td>AAL</td>\n",
       "    </tr>\n",
       "    <tr>\n",
       "      <th>2021-12-30</th>\n",
       "      <td>17.980000</td>\n",
       "      <td>18.379999</td>\n",
       "      <td>17.959999</td>\n",
       "      <td>18.070000</td>\n",
       "      <td>18.070000</td>\n",
       "      <td>28158200</td>\n",
       "      <td>AAL</td>\n",
       "    </tr>\n",
       "  </tbody>\n",
       "</table>\n",
       "<p>22890 rows × 7 columns</p>\n",
       "</div>"
      ],
      "text/plain": [
       "                 Open       High        Low      Close  Adj Close    Volume  \\\n",
       "Date                                                                          \n",
       "2012-08-01   1.866000   1.866000   1.735333   1.750000   1.750000  23884500   \n",
       "2012-08-02   1.789333   1.790000   1.701333   1.740000   1.740000  19576500   \n",
       "2012-08-03   1.793333   1.836667   1.782667   1.818000   1.818000  18142500   \n",
       "2012-08-06   1.836667   1.913333   1.836667   1.884667   1.884667  22923000   \n",
       "2012-08-07   1.918000   2.060000   1.900000   2.016667   2.016667  35808000   \n",
       "...               ...        ...        ...        ...        ...       ...   \n",
       "2021-12-23  18.590000  18.719999  18.150000  18.260000  18.260000  32321000   \n",
       "2021-12-27  17.660000  18.240000  17.549999  18.170000  18.170000  28059300   \n",
       "2021-12-28  18.030001  18.639999  17.920000  18.540001  18.540001  28263600   \n",
       "2021-12-29  18.400000  18.430000  17.990000  18.049999  18.049999  22627000   \n",
       "2021-12-30  17.980000  18.379999  17.959999  18.070000  18.070000  28158200   \n",
       "\n",
       "           company  \n",
       "Date                \n",
       "2012-08-01    TSLA  \n",
       "2012-08-02    TSLA  \n",
       "2012-08-03    TSLA  \n",
       "2012-08-06    TSLA  \n",
       "2012-08-07    TSLA  \n",
       "...            ...  \n",
       "2021-12-23     AAL  \n",
       "2021-12-27     AAL  \n",
       "2021-12-28     AAL  \n",
       "2021-12-29     AAL  \n",
       "2021-12-30     AAL  \n",
       "\n",
       "[22890 rows x 7 columns]"
      ]
     },
     "execution_count": 4,
     "metadata": {},
     "output_type": "execute_result"
    }
   ],
   "source": [
    "data"
   ]
  },
  {
   "cell_type": "code",
   "execution_count": 5,
   "id": "c10e11ed",
   "metadata": {},
   "outputs": [
    {
     "data": {
      "text/plain": [
       "[<matplotlib.lines.Line2D at 0x1500287a4c0>]"
      ]
     },
     "execution_count": 5,
     "metadata": {},
     "output_type": "execute_result"
    },
    {
     "data": {
      "image/png": "[encoded data removed]",
      "text/plain": [
       "<Figure size 432x288 with 1 Axes>"
      ]
     },
     "metadata": {
      "needs_background": "light"
     },
     "output_type": "display_data"
    }
   ],
   "source": [
    "# plot of closing price\n",
    "\n",
    "plt.plot(data[data['company']=='TSLA'].Close)"
   ]
  },
  {
   "cell_type": "code",
   "execution_count": 6,
   "id": "205369b6",
   "metadata": {},
   "outputs": [
    {
     "data": {
      "text/plain": [
       "Date\n",
       "2012-08-01           NaN\n",
       "2012-08-02           NaN\n",
       "2012-08-03           NaN\n",
       "2012-08-06           NaN\n",
       "2012-08-07           NaN\n",
       "                 ...    \n",
       "2021-12-23    296.426800\n",
       "2021-12-27    297.703534\n",
       "2021-12-28    298.949667\n",
       "2021-12-29    300.239967\n",
       "2021-12-30    301.428567\n",
       "Name: Close, Length: 2370, dtype: float64"
      ]
     },
     "execution_count": 6,
     "metadata": {},
     "output_type": "execute_result"
    }
   ],
   "source": [
    "# 100 day moving average\n",
    "\n",
    "ma100 = data[data['company']=='TSLA'].Close.rolling(100).mean()\n",
    "ma100"
   ]
  },
  {
   "cell_type": "code",
   "execution_count": 7,
   "id": "078de6a6",
   "metadata": {},
   "outputs": [
    {
     "data": {
      "text/plain": [
       "Date\n",
       "2012-08-01           NaN\n",
       "2012-08-02           NaN\n",
       "2012-08-03           NaN\n",
       "2012-08-06           NaN\n",
       "2012-08-07           NaN\n",
       "                 ...    \n",
       "2021-12-23    257.405517\n",
       "2021-12-27    258.072534\n",
       "2021-12-28    258.706750\n",
       "2021-12-29    259.388934\n",
       "2021-12-30    260.003150\n",
       "Name: Close, Length: 2370, dtype: float64"
      ]
     },
     "execution_count": 7,
     "metadata": {},
     "output_type": "execute_result"
    }
   ],
   "source": [
    "# 200 day moving average\n",
    "\n",
    "ma200 = data[data['company']=='TSLA'].Close.rolling(200).mean()\n",
    "ma200"
   ]
  },
  {
   "cell_type": "code",
   "execution_count": 8,
   "id": "990e8433",
   "metadata": {},
   "outputs": [
    {
     "data": {
      "text/plain": [
       "Date\n",
       "2012-08-01           NaN\n",
       "2012-08-02           NaN\n",
       "2012-08-03           NaN\n",
       "2012-08-06           NaN\n",
       "2012-08-07           NaN\n",
       "                 ...    \n",
       "2021-12-23    345.941133\n",
       "2021-12-27    347.778599\n",
       "2021-12-28    349.414866\n",
       "2021-12-29    350.855399\n",
       "2021-12-30    352.229199\n",
       "Name: Close, Length: 2370, dtype: float64"
      ]
     },
     "execution_count": 8,
     "metadata": {},
     "output_type": "execute_result"
    }
   ],
   "source": [
    "# 50 day moving average\n",
    "\n",
    "ma50 = data[data['company']=='TSLA'].Close.rolling(50).mean()\n",
    "ma50"
   ]
  },
  {
   "cell_type": "code",
   "execution_count": 9,
   "id": "599b48e5",
   "metadata": {},
   "outputs": [
    {
     "data": {
      "text/plain": [
       "[<matplotlib.lines.Line2D at 0x150040bb100>]"
      ]
     },
     "execution_count": 9,
     "metadata": {},
     "output_type": "execute_result"
    },
    {
     "data": {
      "image/png": "[encoded data removed]",
      "text/plain": [
       "<Figure size 864x432 with 1 Axes>"
      ]
     },
     "metadata": {
      "needs_background": "light"
     },
     "output_type": "display_data"
    }
   ],
   "source": [
    "# plot of 100 day moving average\n",
    "\n",
    "plt.figure(figsize=(12,6))\n",
    "plt.plot(data[data['company']=='TSLA'].Close)\n",
    "plt.plot(ma100, 'r')"
   ]
  },
  {
   "cell_type": "code",
   "execution_count": 10,
   "id": "28e6452c",
   "metadata": {},
   "outputs": [
    {
     "data": {
      "text/plain": [
       "[<matplotlib.lines.Line2D at 0x150042acf10>]"
      ]
     },
     "execution_count": 10,
     "metadata": {},
     "output_type": "execute_result"
    },
    {
     "data": {
      "image/png": "[encoded data removed]",
      "text/plain": [
       "<Figure size 864x432 with 1 Axes>"
      ]
     },
     "metadata": {
      "needs_background": "light"
     },
     "output_type": "display_data"
    }
   ],
   "source": [
    "# plot of 100 & 200 day moving average\n",
    "\n",
    "plt.figure(figsize=(12,6))\n",
    "plt.plot(data[data['company']=='TSLA'].Close)\n",
    "plt.plot(ma100, 'r')\n",
    "plt.plot(ma200, 'g')"
   ]
  },
  {
   "cell_type": "markdown",
   "id": "982ec0d9",
   "metadata": {},
   "source": [
    "If 100 days MA is above the 200 days MA then it is in uptrend & if 100 days MA is below the 200 days MA then it is in downtrend"
   ]
  },
  {
   "cell_type": "code",
   "execution_count": 11,
   "id": "1e164499",
   "metadata": {},
   "outputs": [
    {
     "data": {
      "text/plain": [
       "[<matplotlib.lines.Line2D at 0x15004174880>]"
      ]
     },
     "execution_count": 11,
     "metadata": {},
     "output_type": "execute_result"
    },
    {
     "data": {
      "image/png": "[encoded data removed]",
      "text/plain": [
       "<Figure size 864x432 with 1 Axes>"
      ]
     },
     "metadata": {
      "needs_background": "light"
     },
     "output_type": "display_data"
    }
   ],
   "source": [
    "# plot of 50, 100 & 200 day moving average\n",
    "\n",
    "plt.figure(figsize=(12,6))\n",
    "plt.plot(data[data['company']=='TSLA'].Close)\n",
    "plt.plot(ma100, 'r')\n",
    "plt.plot(ma200, 'g')\n",
    "plt.plot(ma50, 'y')"
   ]
  },
  {
   "cell_type": "code",
   "execution_count": 12,
   "id": "c4ff83b5",
   "metadata": {},
   "outputs": [
    {
     "data": {
      "text/plain": [
       "array([[0.00278483],\n",
       "       [0.00276041],\n",
       "       [0.00295095],\n",
       "       ...,\n",
       "       [0.04380008],\n",
       "       [0.04260309],\n",
       "       [0.04265194]])"
      ]
     },
     "execution_count": 12,
     "metadata": {},
     "output_type": "execute_result"
    }
   ],
   "source": [
    "# prepare data\n",
    "\n",
    "scaler = MinMaxScaler(feature_range=(0,1))\n",
    "scaled_data = scaler.fit_transform(data['Close'].values.reshape(-1,1))\n",
    "scaled_data"
   ]
  },
  {
   "cell_type": "code",
   "execution_count": 13,
   "id": "2574d190",
   "metadata": {},
   "outputs": [
    {
     "data": {
      "text/plain": [
       "(22830, 60, 1)"
      ]
     },
     "execution_count": 13,
     "metadata": {},
     "output_type": "execute_result"
    }
   ],
   "source": [
    "# Training the data\n",
    "\n",
    "prediction_days = 60\n",
    "\n",
    "x_train = []\n",
    "y_train = []\n",
    "\n",
    "for i in range(prediction_days, len(scaled_data)):\n",
    "    x_train.append(scaled_data[i-prediction_days:i,0])\n",
    "    y_train.append(scaled_data[i,0])\n",
    "    \n",
    "x_train, y_train = np.array(x_train), np.array(y_train)\n",
    "x_train = np.reshape(x_train, (x_train.shape[0], x_train.shape[1],1))\n",
    "x_train.shape"
   ]
  },
  {
   "cell_type": "code",
   "execution_count": 14,
   "id": "d4d8001a",
   "metadata": {},
   "outputs": [],
   "source": [
    "# build the model\n",
    "\n",
    "model = Sequential()\n",
    "model.add(LSTM(units=50, return_sequences=True, input_shape=(x_train.shape[1],1)))\n",
    "model.add(Dropout(0.2))\n",
    "\n",
    "\n",
    "model.add(LSTM(units=50, return_sequences=True))\n",
    "model.add(Dropout(0.2))\n",
    "\n",
    "\n",
    "model.add(LSTM(units=50))\n",
    "model.add(Dropout(0.2))\n",
    "\n",
    "\n",
    "# prediction of the next closing value\n",
    "model.add(Dense(units=1))"
   ]
  },
  {
   "cell_type": "code",
   "execution_count": 15,
   "id": "016dc763",
   "metadata": {},
   "outputs": [
    {
     "name": "stdout",
     "output_type": "stream",
     "text": [
      "Model: \"sequential\"\n",
      "_________________________________________________________________\n",
      " Layer (type)                Output Shape              Param #   \n",
      "=================================================================\n",
      " lstm (LSTM)                 (None, 60, 50)            10400     \n",
      "                                                                 \n",
      " dropout (Dropout)           (None, 60, 50)            0         \n",
      "                                                                 \n",
      " lstm_1 (LSTM)               (None, 60, 50)            20200     \n",
      "                                                                 \n",
      " dropout_1 (Dropout)         (None, 60, 50)            0         \n",
      "                                                                 \n",
      " lstm_2 (LSTM)               (None, 50)                20200     \n",
      "                                                                 \n",
      " dropout_2 (Dropout)         (None, 50)                0         \n",
      "                                                                 \n",
      " dense (Dense)               (None, 1)                 51        \n",
      "                                                                 \n",
      "=================================================================\n",
      "Total params: 50,851\n",
      "Trainable params: 50,851\n",
      "Non-trainable params: 0\n",
      "_________________________________________________________________\n"
     ]
    }
   ],
   "source": [
    "# model summary\n",
    "\n",
    "model.summary()"
   ]
  },
  {
   "cell_type": "code",
   "execution_count": 16,
   "id": "5651eead",
   "metadata": {},
   "outputs": [
    {
     "name": "stdout",
     "output_type": "stream",
     "text": [
      "Epoch 1/25\n",
      "714/714 [==============================] - 52s 61ms/step - loss: 0.0015\n",
      "Epoch 2/25\n",
      "714/714 [==============================] - 43s 60ms/step - loss: 7.8476e-04\n",
      "Epoch 3/25\n",
      "714/714 [==============================] - 43s 60ms/step - loss: 6.5437e-04\n",
      "Epoch 4/25\n",
      "714/714 [==============================] - 43s 60ms/step - loss: 5.2248e-04\n",
      "Epoch 5/25\n",
      "714/714 [==============================] - 44s 61ms/step - loss: 5.1189e-04\n",
      "Epoch 6/25\n",
      "714/714 [==============================] - 44s 61ms/step - loss: 4.7455e-04\n",
      "Epoch 7/25\n",
      "714/714 [==============================] - 44s 62ms/step - loss: 4.7108e-04\n",
      "Epoch 8/25\n",
      "714/714 [==============================] - 44s 62ms/step - loss: 4.5228e-04\n",
      "Epoch 9/25\n",
      "714/714 [==============================] - 43s 60ms/step - loss: 4.3993e-04\n",
      "Epoch 10/25\n",
      "714/714 [==============================] - 44s 61ms/step - loss: 4.3439e-04\n",
      "Epoch 11/25\n",
      "714/714 [==============================] - 51s 71ms/step - loss: 3.9615e-04\n",
      "Epoch 12/25\n",
      "714/714 [==============================] - 45s 64ms/step - loss: 3.9309e-04\n",
      "Epoch 13/25\n",
      "714/714 [==============================] - 45s 62ms/step - loss: 3.4898e-04\n",
      "Epoch 14/25\n",
      "714/714 [==============================] - 46s 64ms/step - loss: 4.0153e-04\n",
      "Epoch 15/25\n",
      "714/714 [==============================] - 45s 64ms/step - loss: 3.9458e-04\n",
      "Epoch 16/25\n",
      "714/714 [==============================] - 47s 66ms/step - loss: 3.7566e-04\n",
      "Epoch 17/25\n",
      "714/714 [==============================] - 46s 65ms/step - loss: 4.0069e-04\n",
      "Epoch 18/25\n",
      "714/714 [==============================] - 49s 68ms/step - loss: 3.7955e-04\n",
      "Epoch 19/25\n",
      "714/714 [==============================] - 50s 69ms/step - loss: 3.7070e-04\n",
      "Epoch 20/25\n",
      "714/714 [==============================] - 47s 65ms/step - loss: 3.7170e-04\n",
      "Epoch 21/25\n",
      "714/714 [==============================] - 48s 67ms/step - loss: 3.8156e-04\n",
      "Epoch 22/25\n",
      "714/714 [==============================] - 47s 66ms/step - loss: 3.6832e-04\n",
      "Epoch 23/25\n",
      "714/714 [==============================] - 45s 63ms/step - loss: 3.6971e-04\n",
      "Epoch 24/25\n",
      "714/714 [==============================] - 44s 61ms/step - loss: 3.6419e-04\n",
      "Epoch 25/25\n",
      "714/714 [==============================] - 45s 63ms/step - loss: 3.5582e-04\n"
     ]
    },
    {
     "data": {
      "text/plain": [
       "<keras.callbacks.History at 0x150063e0cd0>"
      ]
     },
     "execution_count": 16,
     "metadata": {},
     "output_type": "execute_result"
    }
   ],
   "source": [
    "model.compile(optimizer='adam', loss='mean_squared_error')\n",
    "model.fit(x_train, y_train, epochs=25, batch_size=32)"
   ]
  },
  {
   "cell_type": "code",
   "execution_count": 17,
   "id": "d1fb6e21",
   "metadata": {},
   "outputs": [],
   "source": [
    "# saving the model\n",
    "\n",
    "model.save('keras_model.h5')"
   ]
  },
  {
   "cell_type": "code",
   "execution_count": 31,
   "id": "d80b8c6f",
   "metadata": {},
   "outputs": [
    {
     "data": {
      "text/plain": [
       "array([352.26000977, 399.92666626, 383.19665527, 362.70666504,\n",
       "       354.8999939 , 342.32000732, 352.70666504, 354.79998779,\n",
       "       368.73999023, 343.85333252, 349.86999512, 343.50332642,\n",
       "       331.8833313 , 332.08999634, 314.6333313 , 310.        ,\n",
       "       306.1333313 , 312.47000122, 276.3666687 , 282.1166687 ,\n",
       "       312.23999023, 310.41665649, 301.88665771, 297.04666138,\n",
       "       307.77334595, 302.44665527, 307.33334351, 310.66665649,\n",
       "       301.5166626 , 286.66665649, 291.92001343, 307.47665405,\n",
       "       307.79666138, 292.1166687 , 285.66000366, 273.84332275,\n",
       "       254.67999268, 266.92333984, 269.95666504, 290.14334106,\n",
       "       288.12332153, 293.29666138, 279.76333618, 279.42999268,\n",
       "       268.19332886, 274.79998779, 286.32333374, 279.43331909,\n",
       "       265.1166687 , 255.45666504, 267.29666138, 280.07666016,\n",
       "       290.5333252 , 301.79666138, 307.05334473, 331.32666016,\n",
       "       333.03668213, 337.97332764, 336.88000488, 363.94665527,\n",
       "       366.52334595, 364.66333008, 359.20001221, 361.52999878,\n",
       "       381.81668091, 363.75332642, 348.58666992, 352.42001343,\n",
       "       341.82998657, 325.30999756, 328.9833374 , 340.79000854,\n",
       "       328.33334351, 334.76333618, 342.7166748 , 325.7333374 ,\n",
       "       336.26000977, 335.0166626 , 332.67333984, 292.14001465,\n",
       "       293.83666992, 292.50332642, 290.25332642, 300.98001099,\n",
       "       303.08334351, 317.54000854, 291.09332275, 288.54998779,\n",
       "       262.36999512, 266.67999268, 244.66667175, 242.66667175,\n",
       "       256.52999878, 241.45666504, 253.86999512, 236.60333252,\n",
       "       236.47332764, 221.30000305, 224.96665955, 209.38667297,\n",
       "       219.6000061 , 235.91000366, 253.21000671, 252.75332642,\n",
       "       246.78999329, 258.33334351, 234.5166626 , 238.27999878,\n",
       "       238.88667297, 241.8666687 , 239.70666504, 232.22999573,\n",
       "       215.73666382, 220.88999939, 233.        , 213.1000061 ,\n",
       "       216.75999451, 237.03666687, 236.08666992, 235.07000732,\n",
       "       245.70666504, 244.91999817, 232.66333008, 228.49000549,\n",
       "       224.47332764, 227.26333618, 233.06666565, 231.7333374 ,\n",
       "       244.54333496, 250.76333618, 234.34333801, 233.07000732,\n",
       "       237.03999329, 238.31333923, 240.06666565, 240.54666138,\n",
       "       245.52999878, 247.5       , 271.70666504, 272.24334717,\n",
       "       268.43331909, 258.85998535, 274.82000732, 280.8999939 ,\n",
       "       297.1499939 , 297.27667236, 300.58666992, 307.39666748,\n",
       "       308.6333313 , 288.17001343, 290.42333984, 283.33334351,\n",
       "       294.35665894, 286.63000488, 300.02999878, 309.32000732,\n",
       "       306.56332397, 303.99667358, 302.86999512, 296.66665649,\n",
       "       289.91333008, 296.45333862, 297.09667969, 296.07000732,\n",
       "       288.08999634, 284.82000732, 277.70001221, 275.60998535,\n",
       "       277.16000366, 270.20999146, 274.42001343, 283.70001221,\n",
       "       289.26000977, 299.67999268, 304.42001343, 292.13000488,\n",
       "       302.60998535, 303.75      , 303.3500061 , 309.07000732,\n",
       "       308.73001099, 300.79998779, 288.58999634, 275.32998657,\n",
       "       276.01000977, 282.94000244, 287.80999756, 268.20999146,\n",
       "       265.25      , 242.3999939 , 249.44000244, 240.80999756,\n",
       "       238.13000488, 223.07000732, 222.96000671, 216.5       ,\n",
       "       217.24000549, 221.72000122, 204.99000549, 219.3500061 ,\n",
       "       220.19000244, 222.03999329, 207.27999878, 214.44000244,\n",
       "       211.25      , 222.41999817, 224.63999939, 225.08999634,\n",
       "       228.52000427, 227.53999329, 227.82000732, 214.97999573,\n",
       "       215.30999756, 207.47000122, 197.08000183, 191.30000305,\n",
       "       177.58999634, 190.72000122, 195.97000122, 190.94999695,\n",
       "       194.41999817, 186.91999817, 183.16999817, 180.19000244,\n",
       "       167.86999512, 169.91000366, 183.19999695, 182.86000061,\n",
       "       182.91999817, 180.83000183, 194.69999695, 194.69999695,\n",
       "       192.36950684])"
      ]
     },
     "execution_count": 31,
     "metadata": {},
     "output_type": "execute_result"
    }
   ],
   "source": [
    "# load test data\n",
    "\n",
    "test_start ='2022-01-01' \n",
    "test_end = dt.datetime.now()\n",
    "\n",
    "test_data = web.DataReader('TSLA', data_source='yahoo',start=test_start, end=test_end)\n",
    "#test_data=test_data.drop(columns=['Close'])\n",
    "actual_prices = test_data['Close'].values\n",
    "actual_prices"
   ]
  },
  {
   "cell_type": "code",
   "execution_count": null,
   "id": "fada6acd",
   "metadata": {},
   "outputs": [],
   "source": [
    "total_dataset = pd.concat((data['Close'], test_data['Close']), axis=0)\n",
    "\n",
    "model_inputs = total_dataset[len(total_dataset)-len(test_data)-prediction_days:].values\n",
    "model_inputs = model_inputs.reshape(-1,1)\n",
    "model_inputs = scaler.transform(model_inputs)"
   ]
  },
  {
   "cell_type": "code",
   "execution_count": null,
   "id": "d9872919",
   "metadata": {},
   "outputs": [],
   "source": [
    "# make prediction on test data\n",
    "\n",
    "x_test = []\n",
    "\n",
    "for i in range(prediction_days, len(model_inputs)):\n",
    "    x_test.append(model_inputs[i-prediction_days:i, 0])\n",
    "    \n",
    "x_test = np.array(x_test)\n",
    "x_test = np.reshape(x_test, (x_test.shape[0], x_test.shape[1],1))\n",
    "\n",
    "predicted_prices = model.predict(x_test)\n",
    "predicted_prices = scaler.inverse_transform(predicted_prices)"
   ]
  },
  {
   "cell_type": "code",
   "execution_count": null,
   "id": "294a7941",
   "metadata": {},
   "outputs": [],
   "source": [
    "# plot the test predictions\n",
    "\n",
    "plt.plot(actual_prices, color='black',label='Actual price of the company')\n",
    "plt.plot(predicted_prices, color='green',label='Predicted price of the company')\n",
    "plt.title('company share price chart')\n",
    "plt.xlabel('time')\n",
    "plt.ylabel('share price of the company')\n",
    "plt.legend()\n",
    "plt.show()"
   ]
  },
  {
   "cell_type": "code",
   "execution_count": null,
   "id": "a8aa0aff",
   "metadata": {},
   "outputs": [],
   "source": [
    "# predict next day price\n",
    "\n",
    "real_data = [model_inputs[len(model_inputs)+1-prediction_days:len(model_inputs+1),0]]\n",
    "real_data = np.array(real_data)\n",
    "real_data = np.reshape(real_data, (real_data.shape[0],real_data.shape[1],1))\n",
    "\n",
    "prediction = model.predict(real_data)\n",
    "prediction = scaler.inverse_transform(prediction)\n",
    "print(f\"Prediction: {prediction}\")"
   ]
  }
 ],
 "metadata": {
  "kernelspec": {
   "display_name": "Python 3 (ipykernel)",
   "language": "python",
   "name": "python3"
  },
  "language_info": {
   "codemirror_mode": {
    "name": "ipython",
    "version": 3
   },
   "file_extension": ".py",
   "mimetype": "text/x-python",
   "name": "python",
   "nbconvert_exporter": "python",
   "pygments_lexer": "ipython3",
   "version": "3.9.12"
  }
 },
 "nbformat": 4,
 "nbformat_minor": 5
}
